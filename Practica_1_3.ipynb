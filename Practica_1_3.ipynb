{
  "nbformat": 4,
  "nbformat_minor": 0,
  "metadata": {
    "colab": {
      "provenance": [],
      "authorship_tag": "ABX9TyN98sdfsZwsQh17S96DTgoT",
      "include_colab_link": true
    },
    "kernelspec": {
      "name": "python3",
      "display_name": "Python 3"
    },
    "language_info": {
      "name": "python"
    }
  },
  "cells": [
    {
      "cell_type": "markdown",
      "metadata": {
        "id": "view-in-github",
        "colab_type": "text"
      },
      "source": [
        "<a href=\"https://colab.research.google.com/github/ZaZaNathinm/ActividadesTDAW/blob/main/Practica_1_3.ipynb\" target=\"_parent\"><img src=\"https://colab.research.google.com/assets/colab-badge.svg\" alt=\"Open In Colab\"/></a>"
      ]
    },
    {
      "cell_type": "markdown",
      "source": [
        "***Práctica 1.3 (Transformada de Hough y Etiquetado de componentes conectados)***"
      ],
      "metadata": {
        "id": "WM0vaIiEebpj"
      }
    },
    {
      "cell_type": "code",
      "execution_count": 2,
      "metadata": {
        "colab": {
          "base_uri": "https://localhost:8080/"
        },
        "id": "TPiPQqp3eWwF",
        "outputId": "806e3ae7-cc35-4566-d214-0f6a3ebcbcff"
      },
      "outputs": [
        {
          "output_type": "stream",
          "name": "stdout",
          "text": [
            "Holiss\n"
          ]
        }
      ],
      "source": [
        "print(\"Holiss\")"
      ]
    },
    {
      "cell_type": "code",
      "source": [],
      "metadata": {
        "id": "6c34QzLUekOJ"
      },
      "execution_count": null,
      "outputs": []
    }
  ]
}